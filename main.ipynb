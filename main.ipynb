{
 "cells": [
  {
   "cell_type": "code",
   "execution_count": 23,
   "id": "c4baa0ac-72d1-499c-a294-07ba70b9383d",
   "metadata": {},
   "outputs": [
    {
     "name": "stdout",
     "output_type": "stream",
     "text": [
      "The memory_profiler extension is already loaded. To reload it, use:\n",
      "  %reload_ext memory_profiler\n"
     ]
    }
   ],
   "source": [
    "from algos.a_start import a_star\n",
    "from algos.bellman_ford import bellman_ford\n",
    "from algos.bfs import bfs\n",
    "from algos.dfs import dfs\n",
    "from algos.dijkstras import dijkstra\n",
    "from util.util import maze_csv_to_matrix\n",
    "from entities.graph import Graph\n",
    "import matplotlib\n",
    "import matplotlib.pyplot as plt\n",
    "from memory_profiler import profile\n",
    "from IPython.display import clear_output\n",
    "import time\n",
    "import csv\n",
    "%load_ext memory_profiler\n",
    "\n",
    "\n",
    "def plot_graph(graph: Graph):\n",
    "    colors = 'lime black blue magenta yellow'.split()\n",
    "    cmap = matplotlib.colors.ListedColormap(colors, name='colors', N=None)\n",
    "    plotable_matrix =[]\n",
    "    for node_row in graph.node_matrix:\n",
    "        plotable_row = []\n",
    "        for node in node_row:\n",
    "            plotable_row.append(node.representation if node else 1)\n",
    "        plotable_matrix.append(plotable_row)\n",
    "    fig, ax = plt.subplots()\n",
    "    plt.axis('off')\n",
    "    ax.matshow(plotable_matrix, cmap=cmap)\n",
    "    # for n in range(graph.n):\n",
    "    #     for m in range(graph.m):\n",
    "    #         node = graph.node_matrix[n][m]\n",
    "    #         ax.text(m, n, str(node.representation if node else 1), va='center', ha='center')\n",
    "    plt.show(block=False)\n",
    "    plt.close()\n",
    "\n",
    "def write_graph(file_name: str, graph: Graph):\n",
    "    with open(f\"{file_name}.csv\", 'w+', newline='') as file:\n",
    "        writer = csv.writer(file)\n",
    "        for node_row in graph.node_matrix:\n",
    "            writer.writerow([node.representation if node else 1 for node in node_row])\n",
    "\n",
    "def do_on_finish(result, graph):\n",
    "    if result:\n",
    "        path = \"./maze_solved\"\n",
    "        print(\"Resultado del algoritmo:\")\n",
    "        graph.set_path(result)\n",
    "        plot_graph(graph)\n",
    "        write_graph(path, graph)\n",
    "        print(f\"Se ha creado un csv con la solución en la ruta {path}.csv\")\n",
    "    else:\n",
    "        print(\"El algoritmo no logró determinar una solución\")\n",
    "    result = None\n",
    "\n",
    "def timing(f):\n",
    "    def wrap(*args, **kwargs):\n",
    "        time1 = time.time()\n",
    "        ret = f(*args, **kwargs)\n",
    "        time2 = time.time()\n",
    "        print('{:s} function took {:.3f} ms'.format(f.__name__, (time2-time1)*1000.0))\n",
    "\n",
    "        return ret\n",
    "    return wrap\n",
    "\n",
    "@timing\n",
    "def algo_performer(algo, *args):\n",
    "    return algo(*args)"
   ]
  },
  {
   "cell_type": "code",
   "execution_count": 24,
   "id": "bd8ed4b0-6b05-4f2f-a4c4-f5460c111603",
   "metadata": {},
   "outputs": [
    {
     "name": "stdout",
     "output_type": "stream",
     "text": [
      "- Maze solver -\n",
      "\n"
     ]
    },
    {
     "name": "stdin",
     "output_type": "stream",
     "text": [
      "Ingrese ruta de archivo con el laberinto ./test/test5.csv\n"
     ]
    },
    {
     "name": "stdout",
     "output_type": "stream",
     "text": [
      "Convirtiendo archivo...\n",
      "Laberinto a resolver:\n"
     ]
    },
    {
     "data": {
      "image/png": "[encoded data removed]",
      "text/plain": [
       "<Figure size 640x480 with 1 Axes>"
      ]
     },
     "metadata": {},
     "output_type": "display_data"
    },
    {
     "name": "stdin",
     "output_type": "stream",
     "text": [
      "\n",
      "    Elijar el algoritmo a utilizar:\n",
      "    1 - Dijkstra\n",
      "    2 - Bellman-Ford\n",
      "    3 - DFS (Depth First Search)\n",
      "    4 - BFS (Breadth-first search)\n",
      "    5 - A*\n",
      "     5\n"
     ]
    },
    {
     "name": "stdout",
     "output_type": "stream",
     "text": [
      "algo_performer function took 615.470 ms\n",
      "peak memory: 150.79 MiB, increment: 0.26 MiB\n",
      "Resultado del algoritmo:\n"
     ]
    },
    {
     "data": {
      "image/png": "[encoded data removed]",
      "text/plain": [
       "<Figure size 640x480 with 1 Axes>"
      ]
     },
     "metadata": {},
     "output_type": "display_data"
    },
    {
     "name": "stdout",
     "output_type": "stream",
     "text": [
      "Se ha creado un csv con la solución en la ruta ./maze_solved.csv\n"
     ]
    },
    {
     "name": "stdin",
     "output_type": "stream",
     "text": [
      "\n",
      "    ¿Desea correr el programa nuevamente?\n",
      "    0 - No\n",
      "    1 - Si\n",
      "     0\n"
     ]
    }
   ],
   "source": [
    "go_on = True\n",
    "while go_on:\n",
    "    print(\"- Maze solver -\\n\")\n",
    "    ruta = input(\"Ingrese ruta de archivo con el laberinto\")\n",
    "    print(\"Convirtiendo archivo...\")\n",
    "    matrix = maze_csv_to_matrix(ruta)\n",
    "    graph = Graph(matrix)\n",
    "    start, end = graph.nodes.index(graph.start), graph.nodes.index(graph.end)\n",
    "    print(\"Laberinto a resolver:\")\n",
    "    plot_graph(graph)\n",
    "    algos = {1: dijkstra, 2: bellman_ford, 3: dfs, 4: bfs, 5: a_star}\n",
    "    algo_preference = int(input(\"\"\"\n",
    "    Elijar el algoritmo a utilizar:\n",
    "    1 - Dijkstra\n",
    "    2 - Bellman-Ford\n",
    "    3 - DFS (Depth First Search)\n",
    "    4 - BFS (Breadth-first search)\n",
    "    5 - A*\n",
    "    \"\"\"))\n",
    "    if algo_preference == 5:\n",
    "        %memit result = algo_performer(algos[algo_preference], graph, start, end, graph.heuristic)\n",
    "        do_on_finish(result, graph)\n",
    "    else:\n",
    "        %memit result = algo_performer(algos[algo_preference],graph, start, end)\n",
    "        do_on_finish(result, graph)\n",
    "    go_on = int(input(\"\"\"\n",
    "    ¿Desea correr el programa nuevamente?\n",
    "    0 - No\n",
    "    1 - Si\n",
    "    \"\"\"))\n",
    "    if go_on:\n",
    "        clear_output()"
   ]
  },
  {
   "cell_type": "code",
   "execution_count": null,
   "id": "ec885c99-c5fe-411d-bce1-ce4f8337a869",
   "metadata": {},
   "outputs": [],
   "source": []
  }
 ],
 "metadata": {
  "kernelspec": {
   "display_name": "Python 3 (ipykernel)",
   "language": "python",
   "name": "python3"
  },
  "language_info": {
   "codemirror_mode": {
    "name": "ipython",
    "version": 3
   },
   "file_extension": ".py",
   "mimetype": "text/x-python",
   "name": "python",
   "nbconvert_exporter": "python",
   "pygments_lexer": "ipython3",
   "version": "3.10.7"
  }
 },
 "nbformat": 4,
 "nbformat_minor": 5
}
